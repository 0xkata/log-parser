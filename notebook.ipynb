{
 "cells": [
  {
   "cell_type": "code",
   "execution_count": 2,
   "metadata": {},
   "outputs": [],
   "source": [
    "import re\n",
    "import pandas as pd\n",
    "from tqdm import tqdm\n",
    "\n",
    "\n",
    "combined_regex = '^(?P<client>\\S+) \\S+ (?P<userid>\\S+) \\[(?P<datetime>[^\\]]+)\\] \"(?P<method>[A-Z]+) (?P<request>[^ \"]+)? HTTP/[0-9.]+\" (?P<status>[0-9]{3}) (?P<size>[0-9]+|-) \"(?P<referrer>[^\"]*)\" \"(?P<useragent>[^\"]*)'\n",
    "columns = [\n",
    "    \"client\",\n",
    "    \"userid\",\n",
    "    \"datetime\",\n",
    "    \"method\",\n",
    "    \"request\",\n",
    "    \"status\",\n",
    "    \"size\",\n",
    "    \"referer\",\n",
    "    \"user-agent\",\n",
    "]\n"
   ]
  },
  {
   "cell_type": "code",
   "execution_count": 3,
   "metadata": {},
   "outputs": [],
   "source": [
    "def log_to_df(filename, output, error):\n",
    "    with open(filename, \"r\") as file:\n",
    "        line_num = 0\n",
    "        parsed_lines = []\n",
    "        for line in tqdm(file):\n",
    "            try:\n",
    "                cur_line = re.findall(combined_regex, line)[0]\n",
    "                parsed_lines.append(cur_line)\n",
    "            except Exception as e:\n",
    "                with open(error, 'at') as err:\n",
    "                    print((line, str(e)), file=err)\n",
    "                continue\n",
    "\n",
    "            line_num += 1\n",
    "\n",
    "            if line_num % 250_000 == 0:\n",
    "                df = pd.DataFrame(parsed_lines, columns=columns)\n",
    "                df.to_parquet(f\"{output}/file{line_num//250_000}.parquet\")\n",
    "                parsed_lines.clear()\n",
    "\n",
    "        else:  # Handle the last batch\n",
    "            df = pd.DataFrame(parsed_lines, columns=columns)\n",
    "            df.to_parquet(f\"{output}/file{line_num//250_000}.parquet\")\n",
    "            parsed_lines.clear()"
   ]
  },
  {
   "cell_type": "code",
   "execution_count": 4,
   "metadata": {},
   "outputs": [
    {
     "name": "stderr",
     "output_type": "stream",
     "text": [
      "10365152it [00:49, 208731.60it/s]\n"
     ]
    }
   ],
   "source": [
    "log_to_df(\"access.log\", \"parquet/\", \"error.txt\")\n"
   ]
  },
  {
   "cell_type": "code",
   "execution_count": 5,
   "metadata": {},
   "outputs": [
    {
     "name": "stdout",
     "output_type": "stream",
     "text": [
      "<class 'pandas.core.frame.DataFrame'>\n",
      "RangeIndex: 10114865 entries, 0 to 10114864\n",
      "Data columns (total 9 columns):\n",
      " #   Column      Dtype                    \n",
      "---  ------      -----                    \n",
      " 0   client      object                   \n",
      " 1   userid      object                   \n",
      " 2   datetime    datetime64[ns, UTC+03:30]\n",
      " 3   method      object                   \n",
      " 4   request     object                   \n",
      " 5   status      int64                    \n",
      " 6   size        int64                    \n",
      " 7   referer     object                   \n",
      " 8   user-agent  object                   \n",
      "dtypes: datetime64[ns, UTC+03:30](1), int64(2), object(6)\n",
      "memory usage: 694.5+ MB\n"
     ]
    }
   ],
   "source": [
    "df = pd.read_parquet(\"parquet/\")\n",
    "\n",
    "df['datetime'] = pd.to_datetime(df['datetime'], format='%d/%b/%Y:%H:%M:%S %z')\n",
    "df['status'] = df['status'].astype(int)\n",
    "df['size'] = pd.to_numeric(df['size'], errors='coerce')\n",
    "\n",
    "df.dropna(inplace=True)\n",
    "\n",
    "df.info()"
   ]
  },
  {
   "cell_type": "code",
   "execution_count": 6,
   "metadata": {},
   "outputs": [
    {
     "data": {
      "text/html": [
       "<div>\n",
       "<style scoped>\n",
       "    .dataframe tbody tr th:only-of-type {\n",
       "        vertical-align: middle;\n",
       "    }\n",
       "\n",
       "    .dataframe tbody tr th {\n",
       "        vertical-align: top;\n",
       "    }\n",
       "\n",
       "    .dataframe thead th {\n",
       "        text-align: right;\n",
       "    }\n",
       "</style>\n",
       "<table border=\"1\" class=\"dataframe\">\n",
       "  <thead>\n",
       "    <tr style=\"text-align: right;\">\n",
       "      <th></th>\n",
       "      <th>client</th>\n",
       "      <th>userid</th>\n",
       "      <th>datetime</th>\n",
       "      <th>method</th>\n",
       "      <th>request</th>\n",
       "      <th>status</th>\n",
       "      <th>size</th>\n",
       "      <th>referer</th>\n",
       "      <th>user-agent</th>\n",
       "    </tr>\n",
       "  </thead>\n",
       "  <tbody>\n",
       "    <tr>\n",
       "      <th>0</th>\n",
       "      <td>54.36.149.41</td>\n",
       "      <td>-</td>\n",
       "      <td>2019-01-22 03:56:14+03:30</td>\n",
       "      <td>GET</td>\n",
       "      <td>/filter/27|13%20%D9%85%DA%AF%D8%A7%D9%BE%DB%8C...</td>\n",
       "      <td>200</td>\n",
       "      <td>30577</td>\n",
       "      <td>-</td>\n",
       "      <td>Mozilla/5.0 (compatible; AhrefsBot/6.1; +http:...</td>\n",
       "    </tr>\n",
       "    <tr>\n",
       "      <th>1</th>\n",
       "      <td>31.56.96.51</td>\n",
       "      <td>-</td>\n",
       "      <td>2019-01-22 03:56:16+03:30</td>\n",
       "      <td>GET</td>\n",
       "      <td>/image/60844/productModel/200x200</td>\n",
       "      <td>200</td>\n",
       "      <td>5667</td>\n",
       "      <td>https://www.zanbil.ir/m/filter/b113</td>\n",
       "      <td>Mozilla/5.0 (Linux; Android 6.0; ALE-L21 Build...</td>\n",
       "    </tr>\n",
       "    <tr>\n",
       "      <th>2</th>\n",
       "      <td>31.56.96.51</td>\n",
       "      <td>-</td>\n",
       "      <td>2019-01-22 03:56:16+03:30</td>\n",
       "      <td>GET</td>\n",
       "      <td>/image/61474/productModel/200x200</td>\n",
       "      <td>200</td>\n",
       "      <td>5379</td>\n",
       "      <td>https://www.zanbil.ir/m/filter/b113</td>\n",
       "      <td>Mozilla/5.0 (Linux; Android 6.0; ALE-L21 Build...</td>\n",
       "    </tr>\n",
       "    <tr>\n",
       "      <th>3</th>\n",
       "      <td>40.77.167.129</td>\n",
       "      <td>-</td>\n",
       "      <td>2019-01-22 03:56:17+03:30</td>\n",
       "      <td>GET</td>\n",
       "      <td>/image/14925/productModel/100x100</td>\n",
       "      <td>200</td>\n",
       "      <td>1696</td>\n",
       "      <td>-</td>\n",
       "      <td>Mozilla/5.0 (compatible; bingbot/2.0; +http://...</td>\n",
       "    </tr>\n",
       "    <tr>\n",
       "      <th>4</th>\n",
       "      <td>91.99.72.15</td>\n",
       "      <td>-</td>\n",
       "      <td>2019-01-22 03:56:17+03:30</td>\n",
       "      <td>GET</td>\n",
       "      <td>/product/31893/62100/%D8%B3%D8%B4%D9%88%D8%A7%...</td>\n",
       "      <td>200</td>\n",
       "      <td>41483</td>\n",
       "      <td>-</td>\n",
       "      <td>Mozilla/5.0 (Windows NT 6.2; Win64; x64; rv:16...</td>\n",
       "    </tr>\n",
       "  </tbody>\n",
       "</table>\n",
       "</div>"
      ],
      "text/plain": [
       "          client userid                  datetime method  \\\n",
       "0   54.36.149.41      - 2019-01-22 03:56:14+03:30    GET   \n",
       "1    31.56.96.51      - 2019-01-22 03:56:16+03:30    GET   \n",
       "2    31.56.96.51      - 2019-01-22 03:56:16+03:30    GET   \n",
       "3  40.77.167.129      - 2019-01-22 03:56:17+03:30    GET   \n",
       "4    91.99.72.15      - 2019-01-22 03:56:17+03:30    GET   \n",
       "\n",
       "                                             request  status   size  \\\n",
       "0  /filter/27|13%20%D9%85%DA%AF%D8%A7%D9%BE%DB%8C...     200  30577   \n",
       "1                  /image/60844/productModel/200x200     200   5667   \n",
       "2                  /image/61474/productModel/200x200     200   5379   \n",
       "3                  /image/14925/productModel/100x100     200   1696   \n",
       "4  /product/31893/62100/%D8%B3%D8%B4%D9%88%D8%A7%...     200  41483   \n",
       "\n",
       "                               referer  \\\n",
       "0                                    -   \n",
       "1  https://www.zanbil.ir/m/filter/b113   \n",
       "2  https://www.zanbil.ir/m/filter/b113   \n",
       "3                                    -   \n",
       "4                                    -   \n",
       "\n",
       "                                          user-agent  \n",
       "0  Mozilla/5.0 (compatible; AhrefsBot/6.1; +http:...  \n",
       "1  Mozilla/5.0 (Linux; Android 6.0; ALE-L21 Build...  \n",
       "2  Mozilla/5.0 (Linux; Android 6.0; ALE-L21 Build...  \n",
       "3  Mozilla/5.0 (compatible; bingbot/2.0; +http://...  \n",
       "4  Mozilla/5.0 (Windows NT 6.2; Win64; x64; rv:16...  "
      ]
     },
     "execution_count": 6,
     "metadata": {},
     "output_type": "execute_result"
    }
   ],
   "source": [
    "df.head()"
   ]
  },
  {
   "cell_type": "code",
   "execution_count": 7,
   "metadata": {},
   "outputs": [
    {
     "data": {
      "text/html": [
       "<div>\n",
       "<style scoped>\n",
       "    .dataframe tbody tr th:only-of-type {\n",
       "        vertical-align: middle;\n",
       "    }\n",
       "\n",
       "    .dataframe tbody tr th {\n",
       "        vertical-align: top;\n",
       "    }\n",
       "\n",
       "    .dataframe thead th {\n",
       "        text-align: right;\n",
       "    }\n",
       "</style>\n",
       "<table border=\"1\" class=\"dataframe\">\n",
       "  <thead>\n",
       "    <tr style=\"text-align: right;\">\n",
       "      <th></th>\n",
       "      <th>client</th>\n",
       "      <th>userid</th>\n",
       "      <th>datetime</th>\n",
       "      <th>method</th>\n",
       "      <th>request</th>\n",
       "      <th>status</th>\n",
       "      <th>size</th>\n",
       "      <th>referer</th>\n",
       "      <th>user-agent</th>\n",
       "      <th>sqli_flag</th>\n",
       "    </tr>\n",
       "  </thead>\n",
       "  <tbody>\n",
       "  </tbody>\n",
       "</table>\n",
       "</div>"
      ],
      "text/plain": [
       "Empty DataFrame\n",
       "Columns: [client, userid, datetime, method, request, status, size, referer, user-agent, sqli_flag]\n",
       "Index: []"
      ]
     },
     "execution_count": 7,
     "metadata": {},
     "output_type": "execute_result"
    }
   ],
   "source": [
    "sqli_patterns = [\n",
    "    \"';--\", \"' OR '1'='1\", \"' OR 1=1 --\", \"' OR 0=0 --\", \"' OR x=x --\",\n",
    "    \"admin' --\", \"') OR ('\", \"'; EXEC\", \"' UNION SELECT\", \"'; DROP\", \"' AND SLEEP(\"\n",
    "]\n",
    "\n",
    "sqli_patterns = [pattern.lower() for pattern in sqli_patterns]\n",
    "\n",
    "df['sqli_flag'] = df['request'].str.lower().apply(\n",
    "    lambda x: any(pattern in x for pattern in sqli_patterns)\n",
    ")\n",
    "\n",
    "sus_sqli = df[df['sqli_flag']]\n",
    "sus_sqli"
   ]
  },
  {
   "cell_type": "code",
   "execution_count": 8,
   "metadata": {},
   "outputs": [
    {
     "data": {
      "text/html": [
       "<div>\n",
       "<style scoped>\n",
       "    .dataframe tbody tr th:only-of-type {\n",
       "        vertical-align: middle;\n",
       "    }\n",
       "\n",
       "    .dataframe tbody tr th {\n",
       "        vertical-align: top;\n",
       "    }\n",
       "\n",
       "    .dataframe thead th {\n",
       "        text-align: right;\n",
       "    }\n",
       "</style>\n",
       "<table border=\"1\" class=\"dataframe\">\n",
       "  <thead>\n",
       "    <tr style=\"text-align: right;\">\n",
       "      <th></th>\n",
       "      <th>client</th>\n",
       "      <th>userid</th>\n",
       "      <th>datetime</th>\n",
       "      <th>method</th>\n",
       "      <th>request</th>\n",
       "      <th>status</th>\n",
       "      <th>size</th>\n",
       "      <th>referer</th>\n",
       "      <th>user-agent</th>\n",
       "      <th>sqli_flag</th>\n",
       "      <th>xss_flag</th>\n",
       "    </tr>\n",
       "  </thead>\n",
       "  <tbody>\n",
       "  </tbody>\n",
       "</table>\n",
       "</div>"
      ],
      "text/plain": [
       "Empty DataFrame\n",
       "Columns: [client, userid, datetime, method, request, status, size, referer, user-agent, sqli_flag, xss_flag]\n",
       "Index: []"
      ]
     },
     "execution_count": 8,
     "metadata": {},
     "output_type": "execute_result"
    }
   ],
   "source": [
    "xss_patterns = ['<script', 'javascript:', 'onerror=', 'onload=']\n",
    "df['xss_flag'] = df['request'].apply(lambda x: any(pattern in x for pattern in xss_patterns))\n",
    "\n",
    "sus_xss = df[df['xss_flag']]\n",
    "sus_xss"
   ]
  }
 ],
 "metadata": {
  "kernelspec": {
   "display_name": "Python 3",
   "language": "python",
   "name": "python3"
  },
  "language_info": {
   "codemirror_mode": {
    "name": "ipython",
    "version": 3
   },
   "file_extension": ".py",
   "mimetype": "text/x-python",
   "name": "python",
   "nbconvert_exporter": "python",
   "pygments_lexer": "ipython3",
   "version": "3.10.12"
  }
 },
 "nbformat": 4,
 "nbformat_minor": 2
}
